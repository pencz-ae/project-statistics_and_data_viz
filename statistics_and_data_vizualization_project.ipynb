{
  "cells": [
    {
      "cell_type": "markdown",
      "metadata": {
        "id": "VOTu7U3Mvxzq"
      },
      "source": [
        "# Projeto - Fundamentos da Descoberta de Dados"
      ]
    },
    {
      "cell_type": "markdown",
      "metadata": {
        "id": "-HYgkdAywLd0"
      },
      "source": [
        "Nesse projeto trabalharemos com a base de dados de produtos de um supermercado do Chile.\n",
        "A ideia é principal é a aplicação de alguns conceitos estatísticos, mais os conceitos de visualizações de dados através de gráficos."
      ]
    },
    {
      "cell_type": "code",
      "execution_count": null,
      "metadata": {},
      "outputs": [],
      "source": [
        "pip install -r requirements.txt"
      ]
    },
    {
      "cell_type": "code",
      "execution_count": 2,
      "metadata": {
        "id": "OTdTnbzUwE2X"
      },
      "outputs": [],
      "source": [
        "import pandas as pd\n",
        "import matplotlib.pyplot as plt\n",
        "import plotly.express as px\n",
        "import plotly.io as pio\n",
        "pio.renderers.default = \"vscode\""
      ]
    },
    {
      "cell_type": "code",
      "execution_count": 3,
      "metadata": {
        "colab": {
          "base_uri": "https://localhost:8080/",
          "height": 363
        },
        "id": "bRBFyVB5wlny",
        "outputId": "529f5402-61b5-43bc-930e-d7b50c42f154"
      },
      "outputs": [
        {
          "data": {
            "text/html": [
              "<div>\n",
              "<style scoped>\n",
              "    .dataframe tbody tr th:only-of-type {\n",
              "        vertical-align: middle;\n",
              "    }\n",
              "\n",
              "    .dataframe tbody tr th {\n",
              "        vertical-align: top;\n",
              "    }\n",
              "\n",
              "    .dataframe thead th {\n",
              "        text-align: right;\n",
              "    }\n",
              "</style>\n",
              "<table border=\"1\" class=\"dataframe\">\n",
              "  <thead>\n",
              "    <tr style=\"text-align: right;\">\n",
              "      <th></th>\n",
              "      <th>title</th>\n",
              "      <th>Marca</th>\n",
              "      <th>Preco_Normal</th>\n",
              "      <th>Preco_Desconto</th>\n",
              "      <th>Preco_Anterior</th>\n",
              "      <th>Desconto</th>\n",
              "      <th>Categoria</th>\n",
              "    </tr>\n",
              "  </thead>\n",
              "  <tbody>\n",
              "    <tr>\n",
              "      <th>0</th>\n",
              "      <td>Pack 12 un, Leche extra proteína 1 L</td>\n",
              "      <td>Loncoleche</td>\n",
              "      <td>19788</td>\n",
              "      <td>0</td>\n",
              "      <td>0</td>\n",
              "      <td>0</td>\n",
              "      <td>lacteos</td>\n",
              "    </tr>\n",
              "    <tr>\n",
              "      <th>1</th>\n",
              "      <td>Pack 12 un, Leche chocolate receta original 1 L</td>\n",
              "      <td>Soprole</td>\n",
              "      <td>18228</td>\n",
              "      <td>0</td>\n",
              "      <td>0</td>\n",
              "      <td>0</td>\n",
              "      <td>lacteos</td>\n",
              "    </tr>\n",
              "    <tr>\n",
              "      <th>2</th>\n",
              "      <td>Pack 12 un, Leche semidescremada chocolate 1 L</td>\n",
              "      <td>Soprole</td>\n",
              "      <td>18228</td>\n",
              "      <td>0</td>\n",
              "      <td>0</td>\n",
              "      <td>0</td>\n",
              "      <td>lacteos</td>\n",
              "    </tr>\n",
              "    <tr>\n",
              "      <th>3</th>\n",
              "      <td>Pack 12 un, Leche semidescremada frutilla 1 L</td>\n",
              "      <td>Soprole</td>\n",
              "      <td>18228</td>\n",
              "      <td>0</td>\n",
              "      <td>0</td>\n",
              "      <td>0</td>\n",
              "      <td>lacteos</td>\n",
              "    </tr>\n",
              "    <tr>\n",
              "      <th>4</th>\n",
              "      <td>Pack 12 un, Leche sin lactosa chocolate 1 L</td>\n",
              "      <td>Loncoleche</td>\n",
              "      <td>17988</td>\n",
              "      <td>0</td>\n",
              "      <td>0</td>\n",
              "      <td>0</td>\n",
              "      <td>lacteos</td>\n",
              "    </tr>\n",
              "    <tr>\n",
              "      <th>5</th>\n",
              "      <td>Pack 12 un, Leche sin lactosa frutilla 1 L</td>\n",
              "      <td>Loncoleche</td>\n",
              "      <td>17988</td>\n",
              "      <td>0</td>\n",
              "      <td>0</td>\n",
              "      <td>0</td>\n",
              "      <td>lacteos</td>\n",
              "    </tr>\n",
              "    <tr>\n",
              "      <th>6</th>\n",
              "      <td>Pack 12 un, Leche saborizada light chocolate 1 L</td>\n",
              "      <td>Loncoleche</td>\n",
              "      <td>17988</td>\n",
              "      <td>0</td>\n",
              "      <td>0</td>\n",
              "      <td>0</td>\n",
              "      <td>lacteos</td>\n",
              "    </tr>\n",
              "    <tr>\n",
              "      <th>7</th>\n",
              "      <td>Pack 12 un, Leche saborizada frutilla 1 L</td>\n",
              "      <td>Colun</td>\n",
              "      <td>17388</td>\n",
              "      <td>0</td>\n",
              "      <td>0</td>\n",
              "      <td>0</td>\n",
              "      <td>lacteos</td>\n",
              "    </tr>\n",
              "    <tr>\n",
              "      <th>8</th>\n",
              "      <td>Pack 12 un, Leche saborizada vainilla 1 L</td>\n",
              "      <td>Colun</td>\n",
              "      <td>17388</td>\n",
              "      <td>0</td>\n",
              "      <td>0</td>\n",
              "      <td>0</td>\n",
              "      <td>lacteos</td>\n",
              "    </tr>\n",
              "    <tr>\n",
              "      <th>9</th>\n",
              "      <td>Pack 12 un, Leche saborizada manjar 1 L</td>\n",
              "      <td>Colun</td>\n",
              "      <td>17388</td>\n",
              "      <td>0</td>\n",
              "      <td>0</td>\n",
              "      <td>0</td>\n",
              "      <td>lacteos</td>\n",
              "    </tr>\n",
              "  </tbody>\n",
              "</table>\n",
              "</div>"
            ],
            "text/plain": [
              "                                              title       Marca  Preco_Normal  \\\n",
              "0              Pack 12 un, Leche extra proteína 1 L  Loncoleche         19788   \n",
              "1   Pack 12 un, Leche chocolate receta original 1 L     Soprole         18228   \n",
              "2    Pack 12 un, Leche semidescremada chocolate 1 L     Soprole         18228   \n",
              "3     Pack 12 un, Leche semidescremada frutilla 1 L     Soprole         18228   \n",
              "4       Pack 12 un, Leche sin lactosa chocolate 1 L  Loncoleche         17988   \n",
              "5        Pack 12 un, Leche sin lactosa frutilla 1 L  Loncoleche         17988   \n",
              "6  Pack 12 un, Leche saborizada light chocolate 1 L  Loncoleche         17988   \n",
              "7         Pack 12 un, Leche saborizada frutilla 1 L       Colun         17388   \n",
              "8         Pack 12 un, Leche saborizada vainilla 1 L       Colun         17388   \n",
              "9           Pack 12 un, Leche saborizada manjar 1 L       Colun         17388   \n",
              "\n",
              "   Preco_Desconto  Preco_Anterior  Desconto Categoria  \n",
              "0               0               0         0   lacteos  \n",
              "1               0               0         0   lacteos  \n",
              "2               0               0         0   lacteos  \n",
              "3               0               0         0   lacteos  \n",
              "4               0               0         0   lacteos  \n",
              "5               0               0         0   lacteos  \n",
              "6               0               0         0   lacteos  \n",
              "7               0               0         0   lacteos  \n",
              "8               0               0         0   lacteos  \n",
              "9               0               0         0   lacteos  "
            ]
          },
          "execution_count": 3,
          "metadata": {},
          "output_type": "execute_result"
        }
      ],
      "source": [
        "df = pd.read_csv(\"SUPERMERCADO_CHILE.csv\", delimiter=',')\n",
        "df.head(10)"
      ]
    },
    {
      "cell_type": "markdown",
      "metadata": {
        "id": "YJgKJ7Nxwtw2"
      },
      "source": [
        "Os campos do nosso dataframe são:\n",
        "\n",
        "**Title:** Nome do produto.\n",
        "\n",
        "\n",
        "**Marca:** A marca do produto.\n",
        "\n",
        "\n",
        "**Preco_Normal:** O preço em que o produto costuma ser vendido quando não há desconto.\n",
        "\n",
        "\n",
        "**Preco_Desconto:** O preço vendido após o desconto ser aplicado.\n",
        "\n",
        "\n",
        "**Preco_Anterior:** Preço em que era comercializado o produto antes do desconto aplicado.\n",
        "\n",
        "\n",
        "**Desconto:** Total de desconto aplicado.\n",
        "\n",
        "**Categoria:** Classificação em espanhol dos produtos de acordo com o seu tipo.\n",
        "\n",
        "\n",
        "\n",
        "\n",
        "As colunas que aparecem com valores 0 são para os produtos onde não tivemos descontos aplicados."
      ]
    },
    {
      "cell_type": "markdown",
      "metadata": {
        "id": "4u6WBeyyy6ri"
      },
      "source": [
        "# 1 - Trazer a média e a mediana dos preços - coluna Preco_Normal - por categoria de produto e identificar as categorias que parecem ter um valor de média abaixo ou acima da mediana."
      ]
    },
    {
      "cell_type": "code",
      "execution_count": 4,
      "metadata": {
        "colab": {
          "base_uri": "https://localhost:8080/"
        },
        "id": "E7B7FolOzVcJ",
        "outputId": "6ca539cd-edae-4429-a35e-18613c18db14"
      },
      "outputs": [
        {
          "name": "stdout",
          "output_type": "stream",
          "text": [
            "                    Categoria        media\n",
            "1          comidas-preparadas  3095.043478\n",
            "5                     lacteos  2385.219239\n",
            "2                  congelados  2108.042553\n",
            "0  belleza-y-cuidado-personal  1783.556485\n",
            "3                      frutas  1724.473684\n",
            "6                    verduras  1343.296875\n",
            "4        instantaneos-y-sopas   765.491228\n"
          ]
        }
      ],
      "source": [
        "# Calcular a media\n",
        "media = df.groupby('Categoria')['Preco_Normal'].mean().reset_index().sort_values(by='Preco_Normal', ascending=False)\n",
        "media = media.rename(columns={\"Preco_Normal\": \"media\"})\n",
        "print(media)\n"
      ]
    },
    {
      "cell_type": "code",
      "execution_count": 5,
      "metadata": {
        "colab": {
          "base_uri": "https://localhost:8080/"
        },
        "id": "Rwf4V3hnzZwh",
        "outputId": "6516c20b-29f2-4107-d7c0-eb776f362004"
      },
      "outputs": [
        {
          "name": "stdout",
          "output_type": "stream",
          "text": [
            "                    Categoria  mediana\n",
            "1          comidas-preparadas   3290.0\n",
            "0  belleza-y-cuidado-personal   1569.0\n",
            "2                  congelados   1519.0\n",
            "3                      frutas   1195.0\n",
            "6                    verduras   1180.0\n",
            "5                     lacteos    989.0\n",
            "4        instantaneos-y-sopas    439.0\n"
          ]
        }
      ],
      "source": [
        "# Calcular a mediana\n",
        "mediana = df.groupby('Categoria')['Preco_Normal'].median().reset_index().sort_values(by='Preco_Normal', ascending=False)\n",
        "mediana = mediana.rename(columns={\"Preco_Normal\": \"mediana\"})\n",
        "print(mediana)\n"
      ]
    },
    {
      "cell_type": "markdown",
      "metadata": {
        "id": "H6GpBK302jbC"
      },
      "source": [
        "Há a necessidade de calcular a diferença absoluta e a diferença percentual, pois somente a diferença entre valores monetários pode nos enganar se desconsiderarmos a proporcionalidade"
      ]
    },
    {
      "cell_type": "code",
      "execution_count": 6,
      "metadata": {
        "colab": {
          "base_uri": "https://localhost:8080/"
        },
        "id": "yhcmR7t92gt6",
        "outputId": "7ef10431-7ccc-44b4-e7bf-29cc868ee232"
      },
      "outputs": [
        {
          "name": "stdout",
          "output_type": "stream",
          "text": [
            "                    Categoria        media  mediana  dif_absoluta  \\\n",
            "1                     lacteos  2385.219239    989.0   1396.219239   \n",
            "6        instantaneos-y-sopas   765.491228    439.0    326.491228   \n",
            "4                      frutas  1724.473684   1195.0    529.473684   \n",
            "2                  congelados  2108.042553   1519.0    589.042553   \n",
            "5                    verduras  1343.296875   1180.0    163.296875   \n",
            "3  belleza-y-cuidado-personal  1783.556485   1569.0    214.556485   \n",
            "0          comidas-preparadas  3095.043478   3290.0   -194.956522   \n",
            "\n",
            "   dif_percentual  \n",
            "1      141.174847  \n",
            "6       74.371578  \n",
            "4       44.307421  \n",
            "2       38.778312  \n",
            "5       13.838718  \n",
            "3       13.674728  \n",
            "0       -5.925730  \n"
          ]
        }
      ],
      "source": [
        "# juntar os dois dataframes pela categoria\n",
        "df_media_mediana = pd.merge(media, mediana, on=\"Categoria\")\n",
        "\n",
        "# calcular diferenças\n",
        "df_media_mediana['dif_absoluta'] = (df_media_mediana['media'] - df_media_mediana['mediana'])\n",
        "df_media_mediana['dif_percentual'] = (df_media_mediana['dif_absoluta'] / df_media_mediana['mediana'] * 100)\n",
        "print(df_media_mediana.sort_values(by='dif_percentual', ascending=False))\n"
      ]
    },
    {
      "cell_type": "markdown",
      "metadata": {
        "id": "nKBFOh-mzyWX"
      },
      "source": [
        "Acima da Mediana:\n",
        "1. lacteos (141%)\n",
        "2. instantaneos-y-sopas (74%)\n",
        "3. frutas (44%)\n",
        "4. congelados (39%)\n",
        "5. verduras (14%)\n",
        "6. belleza-y-cuidado-personal (14%)\n",
        "\n",
        "Abaixo da Mediana:\n",
        "1. comidas-preparadas (-6%)\\"
      ]
    },
    {
      "cell_type": "markdown",
      "metadata": {
        "id": "jdHZurzDzca0"
      },
      "source": [
        "# 2 - Calcular o desvio padrão por categoria de produto e e dentificar o comportamento da média e mediana nas categorias com maior desvio.\n"
      ]
    },
    {
      "cell_type": "code",
      "execution_count": 7,
      "metadata": {
        "colab": {
          "base_uri": "https://localhost:8080/"
        },
        "id": "xEXT1gtoz135",
        "outputId": "6c2616f7-9627-4a12-b8cd-a9653a3a4f7d"
      },
      "outputs": [
        {
          "name": "stdout",
          "output_type": "stream",
          "text": [
            "                    Categoria  desvio_padrao\n",
            "5                     lacteos    3925.816164\n",
            "0  belleza-y-cuidado-personal    2210.041719\n",
            "2                  congelados    2111.539896\n",
            "1          comidas-preparadas    2019.911428\n",
            "3                      frutas    1639.151114\n",
            "4        instantaneos-y-sopas    1170.232869\n",
            "6                    verduras    1012.699625\n",
            "\n",
            "_________________________\n",
            "\n",
            "                    Categoria        media  mediana  dif_absoluta  \\\n",
            "1                     lacteos  2385.219239    989.0   1396.219239   \n",
            "3  belleza-y-cuidado-personal  1783.556485   1569.0    214.556485   \n",
            "2                  congelados  2108.042553   1519.0    589.042553   \n",
            "0          comidas-preparadas  3095.043478   3290.0   -194.956522   \n",
            "4                      frutas  1724.473684   1195.0    529.473684   \n",
            "6        instantaneos-y-sopas   765.491228    439.0    326.491228   \n",
            "5                    verduras  1343.296875   1180.0    163.296875   \n",
            "\n",
            "   dif_percentual  desvio_padrao  \n",
            "1      141.174847    3925.816164  \n",
            "3       13.674728    2210.041719  \n",
            "2       38.778312    2111.539896  \n",
            "0       -5.925730    2019.911428  \n",
            "4       44.307421    1639.151114  \n",
            "6       74.371578    1170.232869  \n",
            "5       13.838718    1012.699625  \n"
          ]
        }
      ],
      "source": [
        "desvio_padrao_por_categoria = df.groupby('Categoria')['Preco_Normal'].std().reset_index()\n",
        "desvio_padrao_por_categoria = desvio_padrao_por_categoria.rename(columns={\"Preco_Normal\": \"desvio_padrao\"})\n",
        "print(desvio_padrao_por_categoria.sort_values(by='desvio_padrao', ascending=False))\n",
        "print('\\n_________________________\\n')\n",
        "df_final = pd.merge(df_media_mediana, desvio_padrao_por_categoria, on=\"Categoria\")\n",
        "print(df_final.sort_values(by='desvio_padrao', ascending=False))"
      ]
    },
    {
      "cell_type": "markdown",
      "metadata": {
        "id": "HzsLO4nOz3yJ"
      },
      "source": [
        "Não há uma correlação direta entre a diferença entre a média e a mediana e o desvio padrão, pois há a possibilidade de termos várias faixas de preços de produtos dentro de uma categoria, mas também existir grande diferença de preço entre essas faixas (sendo notado isso através do desvio padrão).\n",
        "\n",
        "As categorias que mais apresentam essa característica são as seguintes: `belleza-y-cuidado-personal` e `comidas-preparadas`.\n",
        "\n",
        "Além disso temos também a categoria `lacteos`, onde os dados mostram a possível presença de ouliers, sendo menos homogênea de que outras categorias. E no lado oposto, temos a categoria `verduras`, onde há uma distribuição equilibrada e menor variação entre os preços."
      ]
    },
    {
      "cell_type": "markdown",
      "metadata": {
        "id": "4aW51rCHBr2w"
      },
      "source": [
        "# 3 - Plotar um boxplot da distribuição do Preco_Normal para a categoria que você identificou que tem o maior desvio padrão. Como é a distribuição desses dados segundo o boxplot? Existem muitos outliers?"
      ]
    },
    {
      "cell_type": "markdown",
      "metadata": {
        "id": "kwPKkUZnEUSb"
      },
      "source": [
        "Dica: Para trazer apenas os dados da categoria que você deseja você pode usar o df.loc[df['Categoria'] == 'CATEGORIA ESCOLHIDA'"
      ]
    },
    {
      "cell_type": "code",
      "execution_count": 8,
      "metadata": {
        "colab": {
          "base_uri": "https://localhost:8080/"
        },
        "id": "Ym1hq-vFKm36",
        "outputId": "dc0bd34f-e1ca-41cc-fcd7-8ed71a2f86be"
      },
      "outputs": [
        {
          "name": "stdout",
          "output_type": "stream",
          "text": [
            "['lacteos' 'belleza-y-cuidado-personal' 'congelados' 'frutas'\n",
            " 'comidas-preparadas' 'verduras' 'instantaneos-y-sopas']\n"
          ]
        }
      ],
      "source": [
        "print(df[\"Categoria\"].unique())"
      ]
    },
    {
      "cell_type": "code",
      "execution_count": 9,
      "metadata": {
        "colab": {
          "base_uri": "https://localhost:8080/",
          "height": 649
        },
        "id": "_02thblTCKEF",
        "outputId": "f75b1212-3bce-443c-d535-129c9e47a4ab"
      },
      "outputs": [
        {
          "name": "stdout",
          "output_type": "stream",
          "text": [
            "0    19788\n",
            "1    18228\n",
            "2    18228\n",
            "3    18228\n",
            "4    17988\n",
            "Name: Preco_Normal, dtype: int64\n"
          ]
        },
        {
          "data": {
            "image/png": "[encoded data removed]",
            "text/plain": [
              "<Figure size 800x600 with 1 Axes>"
            ]
          },
          "metadata": {},
          "output_type": "display_data"
        }
      ],
      "source": [
        "# Criando o boxplot apenas para a coluna de salário\n",
        "plt.figure(figsize=(8, 6))\n",
        "precos_lacteos = df.loc[df['Categoria'] == 'lacteos', 'Preco_Normal']\n",
        "plt.boxplot(precos_lacteos, patch_artist=True,\n",
        "            boxprops=dict(facecolor=\"lightblue\", color=\"navy\"),\n",
        "            medianprops=dict(color=\"red\", linewidth=1),\n",
        "            whiskerprops=dict(color=\"navy\"),\n",
        "            capprops=dict(color=\"navy\"),\n",
        "            flierprops=dict(markerfacecolor=\"orange\", marker=\"o\", markersize=6, alpha=0.6))\n",
        "\n",
        "# Legendas e rótulos:\n",
        "plt.title('Boxplot de Preço', fontsize=12)\n",
        "plt.ylabel('Preço (CLP)', fontsize=12)\n",
        "plt.xticks([1], [\"lacteos\"])\n",
        "plt.grid(True, linestyle='--', alpha=0.6)\n",
        "print(precos_lacteos.head())"
      ]
    },
    {
      "cell_type": "markdown",
      "metadata": {
        "id": "w5xgQBC_0Hg-"
      },
      "source": [
        "# 4 - Plotar um gráfico de barras onde temos a média de descontos por categoria."
      ]
    },
    {
      "cell_type": "code",
      "execution_count": 10,
      "metadata": {
        "colab": {
          "base_uri": "https://localhost:8080/",
          "height": 779
        },
        "id": "DBj5zAdI0QfI",
        "outputId": "7e0d1b46-e083-4ad5-fdd1-4c0b7357594b"
      },
      "outputs": [
        {
          "name": "stdout",
          "output_type": "stream",
          "text": [
            "\n",
            "Este gráfico mostra a comparação da média de descontos\n",
            "somente em relação aos produtos que tiveram algum desconto.\n",
            "\n"
          ]
        },
        {
          "data": {
            "image/png": "[encoded data removed]",
            "text/plain": [
              "<Figure size 1000x600 with 1 Axes>"
            ]
          },
          "metadata": {},
          "output_type": "display_data"
        }
      ],
      "source": [
        "# Calculando a média de descontos por categoria\n",
        "media_descontos = df.groupby('Categoria')['Desconto'].mean().reset_index().sort_values(by='Desconto', ascending=False)\n",
        "media_descontos = media_descontos.rename(columns={\"Desconto\": \"media_descontos\"})\n",
        "print('\\nEste gráfico mostra a comparação da média de descontos\\nsomente em relação aos produtos que tiveram algum desconto.\\n')\n",
        "# Plotando o Gráfico\n",
        "plt.figure(figsize=(10,6))\n",
        "plt.bar(media_descontos['Categoria'], media_descontos['media_descontos'], color='skyblue')\n",
        "plt.title('Média de Descontos por Categoria', fontsize=16)\n",
        "plt.xlabel('Categorias', fontsize=12)\n",
        "plt.ylabel('Média de Descontos (CLP)', fontsize=12)\n",
        "plt.xticks(rotation=50, ha='right')\n",
        "plt.grid(True, linestyle='--', alpha=0.7)\n",
        "plt.show()\n"
      ]
    },
    {
      "cell_type": "markdown",
      "metadata": {
        "id": "vqlx0w7E07uC"
      },
      "source": [
        "# 5 - Plotar um gráfico de mapa interativo agrupando os dados por categoria, marca e trazendo a média de desconto."
      ]
    },
    {
      "cell_type": "code",
      "execution_count": 11,
      "metadata": {
        "colab": {
          "base_uri": "https://localhost:8080/",
          "height": 617
        },
        "id": "uvQQ5shhXohm",
        "outputId": "930640cf-522f-4016-a7dc-0cf7461156f2"
      },
      "outputs": [
        {
          "data": {
            "application/vnd.plotly.v1+json": {
              "config": {
                "plotlyServerURL": "https://plot.ly"
              },
              "data": [
                {
                  "customdata": [
                    [
                      "Magnum"
                    ],
                    [
                      "Nido"
                    ],
                    [
                      "Oral Fresh"
                    ],
                    [
                      "Rexona Men Clinical"
                    ],
                    [
                      "Rexona Clinical"
                    ],
                    [
                      "Pantene"
                    ],
                    [
                      "Rexona"
                    ],
                    [
                      "Rexona Men"
                    ],
                    [
                      "Mega"
                    ],
                    [
                      "BiO"
                    ],
                    [
                      "Axe"
                    ],
                    [
                      "Viennetta Bresler"
                    ],
                    [
                      "Savory"
                    ],
                    [
                      "Aquafresh"
                    ],
                    [
                      "Dove"
                    ],
                    [
                      "Bresler"
                    ],
                    [
                      "Carte Dor"
                    ],
                    [
                      "Pepsodent"
                    ],
                    [
                      "Protex"
                    ],
                    [
                      "Simonds"
                    ],
                    [
                      "Sureña"
                    ],
                    [
                      "Dove Men"
                    ],
                    [
                      "Not Burger"
                    ],
                    [
                      "PF"
                    ],
                    [
                      "Sahne Nuss"
                    ],
                    [
                      "Not Milk"
                    ],
                    [
                      "Santa Marta"
                    ],
                    [
                      "Cuisine & Co"
                    ],
                    [
                      "Frutos Del Maipo"
                    ],
                    [
                      "Always"
                    ],
                    [
                      "Super Beef"
                    ],
                    [
                      "Colgate"
                    ],
                    [
                      "Nosotras"
                    ],
                    [
                      "Ladysoft"
                    ],
                    [
                      "Oral-B"
                    ],
                    [
                      "San Jorge"
                    ],
                    [
                      "Kotex"
                    ],
                    [
                      "Ballerina"
                    ],
                    [
                      "Minuto Verde"
                    ],
                    [
                      "Cuisine & Co"
                    ],
                    [
                      "Soprole"
                    ],
                    [
                      "Colun"
                    ],
                    [
                      "Nestlé"
                    ],
                    [
                      "Old Spice"
                    ],
                    [
                      "Nivea For Men"
                    ],
                    [
                      "Nivea"
                    ],
                    [
                      "Naturella"
                    ],
                    [
                      "Head & Shoulders"
                    ],
                    [
                      "Ilicit"
                    ],
                    [
                      "Herbal"
                    ],
                    [
                      "Herbal Essences"
                    ],
                    [
                      "Linic"
                    ],
                    [
                      "Listerine"
                    ],
                    [
                      "Le Sancy"
                    ],
                    [
                      "Lady Speed Stick"
                    ],
                    [
                      "Cotosan"
                    ],
                    [
                      "Dento"
                    ],
                    [
                      "Carefree"
                    ],
                    [
                      "Family Care"
                    ],
                    [
                      "Familand"
                    ],
                    [
                      "Elvive"
                    ],
                    [
                      "Elite"
                    ],
                    [
                      "Duralón"
                    ],
                    [
                      "Brooks"
                    ],
                    [
                      "Cotidian"
                    ],
                    [
                      "Babyland"
                    ],
                    [
                      "Bellekiss"
                    ],
                    [
                      "Giselle"
                    ],
                    [
                      "Fructis"
                    ],
                    [
                      "Garnier"
                    ],
                    [
                      "Gillette"
                    ],
                    [
                      "Bravissimo"
                    ],
                    [
                      "Alimentos Shen"
                    ],
                    [
                      "Solo Italia"
                    ],
                    [
                      "Santa Isabel"
                    ],
                    [
                      "Rana"
                    ],
                    [
                      "Sadia"
                    ],
                    [
                      "Cuisine & Co"
                    ],
                    [
                      "La Crianza"
                    ],
                    [
                      "Vanart"
                    ],
                    [
                      "Tío Nacho"
                    ],
                    [
                      "Corbac"
                    ],
                    [
                      "Bredenmaster"
                    ],
                    [
                      "La Crianza"
                    ],
                    [
                      "King"
                    ],
                    [
                      "Guallarauco"
                    ],
                    [
                      "Fiesta"
                    ],
                    [
                      "Receta Del Abuelo"
                    ],
                    [
                      "PF"
                    ],
                    [
                      "Not Ice Cream"
                    ],
                    [
                      "Not Chicken"
                    ],
                    [
                      "Mister Veggie"
                    ],
                    [
                      "Sadia"
                    ],
                    [
                      "Rikü"
                    ],
                    [
                      "Rock"
                    ],
                    [
                      "Speed Stick"
                    ],
                    [
                      "Simond'S"
                    ],
                    [
                      "Tena"
                    ],
                    [
                      "Trianon"
                    ],
                    [
                      "Sedal"
                    ],
                    [
                      "Sensodyne"
                    ],
                    [
                      "Plenitud"
                    ],
                    [
                      "Schick"
                    ],
                    [
                      "Frutas Y Verduras Santa Isabel"
                    ],
                    [
                      "Frutas Y Verduras Propias"
                    ],
                    [
                      "Zole"
                    ],
                    [
                      "Turkey Hill"
                    ],
                    [
                      "Super Pollo"
                    ],
                    [
                      "Tivoni"
                    ],
                    [
                      "Super Cerdo"
                    ],
                    [
                      "San Francisco De Loncomilla"
                    ],
                    [
                      "Naturezza"
                    ],
                    [
                      "Santa Isabel"
                    ],
                    [
                      "Sofruco"
                    ],
                    [
                      "Alcafood"
                    ],
                    [
                      "Gourmet"
                    ],
                    [
                      "Hoffmann"
                    ],
                    [
                      "Carozzi"
                    ],
                    [
                      "Cuisine & Co"
                    ],
                    [
                      "Bonella"
                    ],
                    [
                      "Base Culinar"
                    ],
                    [
                      "Chamyto"
                    ],
                    [
                      "Calan"
                    ],
                    [
                      "Chiquitín"
                    ],
                    [
                      "Cintazul"
                    ],
                    [
                      "Collico"
                    ],
                    [
                      "Calo"
                    ],
                    [
                      "Copacabana"
                    ],
                    [
                      "Crucina"
                    ],
                    [
                      "Traverso"
                    ],
                    [
                      "1+1 Soprole"
                    ],
                    [
                      "Activia"
                    ],
                    [
                      "Astra"
                    ],
                    [
                      "Maggi"
                    ],
                    [
                      "Máxima MP"
                    ],
                    [
                      "Light & Free"
                    ],
                    [
                      "Lefersa"
                    ],
                    [
                      "Kumey"
                    ],
                    [
                      "Ideal"
                    ],
                    [
                      "Deline"
                    ],
                    [
                      "Danone"
                    ],
                    [
                      "Máxima MP"
                    ],
                    [
                      "Loncoleche"
                    ],
                    [
                      "Next"
                    ],
                    [
                      "Oikos"
                    ],
                    [
                      "Omega 3"
                    ],
                    [
                      "Pamperita"
                    ],
                    [
                      "Qualy"
                    ],
                    [
                      "Marco Polo"
                    ],
                    [
                      "Nesquik"
                    ],
                    [
                      "Los Alerces"
                    ],
                    [
                      "Sahne Nuss"
                    ],
                    [
                      "Regimel"
                    ],
                    [
                      "Quillayes"
                    ],
                    [
                      "San Ignacio"
                    ],
                    [
                      "Shake A Shake Lonco Leche"
                    ],
                    [
                      "Santa Isabel"
                    ],
                    [
                      "Signore Mario"
                    ],
                    [
                      "Soprole Activ"
                    ],
                    [
                      "Surlat"
                    ],
                    [
                      "Svelty"
                    ],
                    [
                      "Yogu - Yogu"
                    ],
                    [
                      "Zerolacto"
                    ],
                    [
                      "Agrosano"
                    ],
                    [
                      "Dole"
                    ],
                    [
                      "Frutas Y Verduras Propias"
                    ],
                    [
                      "Jumbo"
                    ]
                  ],
                  "hovertemplate": "Categoria=%{x}<br>Média de Desconto (CLP)=%{marker.color}<br>Marca=%{customdata[0]}<extra></extra>",
                  "legendgroup": "",
                  "marker": {
                    "color": {
                      "bdata": "AAAAAADYjUBmZmZmZi6LQAAAAAAA6IhAAAAAAADYiEAAAAAAANiIQG7btm3bZoVAAAAAAACghEAAAAAAAKCEQAAAAAAAiIRAAAAAAABQhEAAAAAAAHCCQAAAAAAAEIFAAAAAAICCfECrqqqqqsp7QN7d3d3d3XpASZIkSZLcekAAAAAAAFh2QFVVVVVVhXVAAAAAAAAIc0AAAAAAAMByQAAAAAAAUHBAAAAAAACIb0AAAAAAAEBqQAAAAAAAAGlAAAAAAACIZEAAAAAAAABkQAAAAAAAsGJAsPiKr/iKYkCJiIiIiAhhQAAAAAAA8F5AAAAAAAAAXkBiGIZhGEZdQF100UUX3VlAVVVVVVW1V0A5juM4jiNWQAAAAAAAgFFAVVVVVVWVS0CrqqqqqgpBQAAAAAAAgDNA0UUXXXRRMEC1tLS0tLQlQDIpXiCT4hFAEnfEHXFH/D8AAAAAAAAAAAAAAAAAAAAAAAAAAAAAAAAAAAAAAAAAAAAAAAAAAAAAAAAAAAAAAAAAAAAAAAAAAAAAAAAAAAAAAAAAAAAAAAAAAAAAAAAAAAAAAAAAAAAAAAAAAAAAAAAAAAAAAAAAAAAAAAAAAAAAAAAAAAAAAAAAAAAAAAAAAAAAAAAAAAAAAAAAAAAAAAAAAAAAAAAAAAAAAAAAAAAAAAAAAAAAAAAAAAAAAAAAAAAAAAAAAAAAAAAAAAAAAAAAAAAAAAAAAAAAAAAAAAAAAAAAAAAAAAAAAAAAAAAAAAAAAAAAAAAAAAAAAAAAAAAAAAAAAAAAAAAAAAAAAAAAAAAAAAAAAAAAAAAAAAAAAAAAAAAAAAAAAAAAAAAAAAAAAAAAAAAAAAAAAAAAAAAAAAAAAAAAAAAAAAAAAAAAAAAAAAAAAAAAAAAAAAAAAAAAAAAAAAAAAAAAAAAAAAAAAAAAAAAAAAAAAAAAAAAAAAAAAAAAAAAAAAAAAAAAAAAAAAAAAAAAAAAAAAAAAAAAAAAAAAAAAAAAAAAAAAAAAAAAAAAAAAAAAAAAAAAAAAAAAAAAAAAAAAAAAAAAAAAAAAAAAAAAAAAAAAAAAAAAAAAAAAAAAAAAAAAAAAAAAAAAAAAAAAAAAAAAAAAAAAAAAAAAAAAAAAAAAAAAAAAAAAAAAAAAAAAAAAAAAAAAAAAAAAAAAAAAAAAAAAAAAAAAAAAAAAAAAAAAAAAAAAAAAAAAAAAAAAAAAAAAAAAAAAAAAAAAAAAAAAAAAAAAAAAAAAAAAAAAAAAAAAAAAAAAAAAAAAAAAAAAAAAAAAAAAAAAAAAAAAAAAAAAAAAAAAAAAAAAAAAAAAAAAAAAAAAAAAAAAAAAAAAAAAAAAAAAAAAAAAAAAAAAAAAAAAAAAAAAAAAAAAAAAAAAAAAAAAAAAAAAAAAAAAAAAAAAAAAAAAAAAAAAAAAAAAAAAAAAAAAAAAAAAAAAAAAAAAAAAAAAAAAAAAAAAAAAAAAAAAAAAAAAAAAAAAAAAAAAAAAAAAAAAAAAAAAAAAAAAAAAAAAAAAAAAAAAAAAAAAAAAAAAAAAAAAAAAAAAAAAAAAAAAAAAAAAAAAAAAAAAAAAAAAAAAAAAAAAAAAAAAAAAAAAAAAAAAAAAAAAAAAAAAAAAAAAAAAAAAAAAAAAAAAAAAAAAAAAAAAAAAAAAAAAAAAAAAAAAAAAAAAAAAAAAAAAAAAAAAAAAAAAAAAAAAAAAAAAAAAAAAAAAAAAAAAAAAAAAAAAAAAAAAAAAAAAAAAAAAAAAAAAAAAAAAAAAAAAAAAAAAA==",
                      "dtype": "f8"
                    },
                    "coloraxis": "coloraxis",
                    "pattern": {
                      "shape": ""
                    }
                  },
                  "name": "",
                  "orientation": "v",
                  "showlegend": false,
                  "textposition": "auto",
                  "type": "bar",
                  "x": [
                    "congelados",
                    "lacteos",
                    "belleza-y-cuidado-personal",
                    "belleza-y-cuidado-personal",
                    "belleza-y-cuidado-personal",
                    "belleza-y-cuidado-personal",
                    "belleza-y-cuidado-personal",
                    "belleza-y-cuidado-personal",
                    "congelados",
                    "belleza-y-cuidado-personal",
                    "belleza-y-cuidado-personal",
                    "congelados",
                    "congelados",
                    "belleza-y-cuidado-personal",
                    "belleza-y-cuidado-personal",
                    "congelados",
                    "congelados",
                    "belleza-y-cuidado-personal",
                    "belleza-y-cuidado-personal",
                    "belleza-y-cuidado-personal",
                    "lacteos",
                    "belleza-y-cuidado-personal",
                    "congelados",
                    "comidas-preparadas",
                    "congelados",
                    "lacteos",
                    "lacteos",
                    "congelados",
                    "congelados",
                    "belleza-y-cuidado-personal",
                    "congelados",
                    "belleza-y-cuidado-personal",
                    "belleza-y-cuidado-personal",
                    "belleza-y-cuidado-personal",
                    "belleza-y-cuidado-personal",
                    "congelados",
                    "belleza-y-cuidado-personal",
                    "belleza-y-cuidado-personal",
                    "congelados",
                    "lacteos",
                    "lacteos",
                    "lacteos",
                    "lacteos",
                    "belleza-y-cuidado-personal",
                    "belleza-y-cuidado-personal",
                    "belleza-y-cuidado-personal",
                    "belleza-y-cuidado-personal",
                    "belleza-y-cuidado-personal",
                    "belleza-y-cuidado-personal",
                    "belleza-y-cuidado-personal",
                    "belleza-y-cuidado-personal",
                    "belleza-y-cuidado-personal",
                    "belleza-y-cuidado-personal",
                    "belleza-y-cuidado-personal",
                    "belleza-y-cuidado-personal",
                    "belleza-y-cuidado-personal",
                    "belleza-y-cuidado-personal",
                    "belleza-y-cuidado-personal",
                    "belleza-y-cuidado-personal",
                    "belleza-y-cuidado-personal",
                    "belleza-y-cuidado-personal",
                    "belleza-y-cuidado-personal",
                    "belleza-y-cuidado-personal",
                    "belleza-y-cuidado-personal",
                    "belleza-y-cuidado-personal",
                    "belleza-y-cuidado-personal",
                    "belleza-y-cuidado-personal",
                    "belleza-y-cuidado-personal",
                    "belleza-y-cuidado-personal",
                    "belleza-y-cuidado-personal",
                    "belleza-y-cuidado-personal",
                    "congelados",
                    "congelados",
                    "comidas-preparadas",
                    "comidas-preparadas",
                    "comidas-preparadas",
                    "comidas-preparadas",
                    "comidas-preparadas",
                    "comidas-preparadas",
                    "belleza-y-cuidado-personal",
                    "belleza-y-cuidado-personal",
                    "comidas-preparadas",
                    "comidas-preparadas",
                    "congelados",
                    "congelados",
                    "congelados",
                    "congelados",
                    "congelados",
                    "congelados",
                    "congelados",
                    "congelados",
                    "congelados",
                    "congelados",
                    "congelados",
                    "congelados",
                    "belleza-y-cuidado-personal",
                    "belleza-y-cuidado-personal",
                    "belleza-y-cuidado-personal",
                    "belleza-y-cuidado-personal",
                    "belleza-y-cuidado-personal",
                    "belleza-y-cuidado-personal",
                    "belleza-y-cuidado-personal",
                    "belleza-y-cuidado-personal",
                    "frutas",
                    "frutas",
                    "congelados",
                    "congelados",
                    "congelados",
                    "congelados",
                    "congelados",
                    "congelados",
                    "instantaneos-y-sopas",
                    "instantaneos-y-sopas",
                    "frutas",
                    "instantaneos-y-sopas",
                    "instantaneos-y-sopas",
                    "instantaneos-y-sopas",
                    "instantaneos-y-sopas",
                    "instantaneos-y-sopas",
                    "lacteos",
                    "lacteos",
                    "lacteos",
                    "lacteos",
                    "lacteos",
                    "lacteos",
                    "lacteos",
                    "lacteos",
                    "lacteos",
                    "lacteos",
                    "instantaneos-y-sopas",
                    "lacteos",
                    "lacteos",
                    "lacteos",
                    "instantaneos-y-sopas",
                    "instantaneos-y-sopas",
                    "lacteos",
                    "lacteos",
                    "lacteos",
                    "lacteos",
                    "lacteos",
                    "lacteos",
                    "lacteos",
                    "lacteos",
                    "lacteos",
                    "lacteos",
                    "lacteos",
                    "lacteos",
                    "lacteos",
                    "lacteos",
                    "lacteos",
                    "lacteos",
                    "lacteos",
                    "lacteos",
                    "lacteos",
                    "lacteos",
                    "lacteos",
                    "lacteos",
                    "lacteos",
                    "lacteos",
                    "lacteos",
                    "lacteos",
                    "lacteos",
                    "lacteos",
                    "verduras",
                    "verduras",
                    "verduras",
                    "verduras"
                  ],
                  "xaxis": "x",
                  "y": {
                    "bdata": "AAAAAADYjUBmZmZmZi6LQAAAAAAA6IhAAAAAAADYiEAAAAAAANiIQG7btm3bZoVAAAAAAACghEAAAAAAAKCEQAAAAAAAiIRAAAAAAABQhEAAAAAAAHCCQAAAAAAAEIFAAAAAAICCfECrqqqqqsp7QN7d3d3d3XpASZIkSZLcekAAAAAAAFh2QFVVVVVVhXVAAAAAAAAIc0AAAAAAAMByQAAAAAAAUHBAAAAAAACIb0AAAAAAAEBqQAAAAAAAAGlAAAAAAACIZEAAAAAAAABkQAAAAAAAsGJAsPiKr/iKYkCJiIiIiAhhQAAAAAAA8F5AAAAAAAAAXkBiGIZhGEZdQF100UUX3VlAVVVVVVW1V0A5juM4jiNWQAAAAAAAgFFAVVVVVVWVS0CrqqqqqgpBQAAAAAAAgDNA0UUXXXRRMEC1tLS0tLQlQDIpXiCT4hFAEnfEHXFH/D8AAAAAAAAAAAAAAAAAAAAAAAAAAAAAAAAAAAAAAAAAAAAAAAAAAAAAAAAAAAAAAAAAAAAAAAAAAAAAAAAAAAAAAAAAAAAAAAAAAAAAAAAAAAAAAAAAAAAAAAAAAAAAAAAAAAAAAAAAAAAAAAAAAAAAAAAAAAAAAAAAAAAAAAAAAAAAAAAAAAAAAAAAAAAAAAAAAAAAAAAAAAAAAAAAAAAAAAAAAAAAAAAAAAAAAAAAAAAAAAAAAAAAAAAAAAAAAAAAAAAAAAAAAAAAAAAAAAAAAAAAAAAAAAAAAAAAAAAAAAAAAAAAAAAAAAAAAAAAAAAAAAAAAAAAAAAAAAAAAAAAAAAAAAAAAAAAAAAAAAAAAAAAAAAAAAAAAAAAAAAAAAAAAAAAAAAAAAAAAAAAAAAAAAAAAAAAAAAAAAAAAAAAAAAAAAAAAAAAAAAAAAAAAAAAAAAAAAAAAAAAAAAAAAAAAAAAAAAAAAAAAAAAAAAAAAAAAAAAAAAAAAAAAAAAAAAAAAAAAAAAAAAAAAAAAAAAAAAAAAAAAAAAAAAAAAAAAAAAAAAAAAAAAAAAAAAAAAAAAAAAAAAAAAAAAAAAAAAAAAAAAAAAAAAAAAAAAAAAAAAAAAAAAAAAAAAAAAAAAAAAAAAAAAAAAAAAAAAAAAAAAAAAAAAAAAAAAAAAAAAAAAAAAAAAAAAAAAAAAAAAAAAAAAAAAAAAAAAAAAAAAAAAAAAAAAAAAAAAAAAAAAAAAAAAAAAAAAAAAAAAAAAAAAAAAAAAAAAAAAAAAAAAAAAAAAAAAAAAAAAAAAAAAAAAAAAAAAAAAAAAAAAAAAAAAAAAAAAAAAAAAAAAAAAAAAAAAAAAAAAAAAAAAAAAAAAAAAAAAAAAAAAAAAAAAAAAAAAAAAAAAAAAAAAAAAAAAAAAAAAAAAAAAAAAAAAAAAAAAAAAAAAAAAAAAAAAAAAAAAAAAAAAAAAAAAAAAAAAAAAAAAAAAAAAAAAAAAAAAAAAAAAAAAAAAAAAAAAAAAAAAAAAAAAAAAAAAAAAAAAAAAAAAAAAAAAAAAAAAAAAAAAAAAAAAAAAAAAAAAAAAAAAAAAAAAAAAAAAAAAAAAAAAAAAAAAAAAAAAAAAAAAAAAAAAAAAAAAAAAAAAAAAAAAAAAAAAAAAAAAAAAAAAAAAAAAAAAAAAAAAAAAAAAAAAAAAAAAAAAAAAAAAAAAAAAAAAAAAAAAAAAAAAAAAAAAAAAAAAAAAAAAAAAAAAAAAAAAAAAAAAAAAAAAAAAAAAAAAAAAAAAAAAAAAAAAAAAAAAAAAAAAAAAAAAAAAAAAAAAAAAA==",
                    "dtype": "f8"
                  },
                  "yaxis": "y"
                }
              ],
              "layout": {
                "annotations": [
                  {
                    "align": "left",
                    "bgcolor": "white",
                    "bordercolor": "black",
                    "borderpad": 8,
                    "borderwidth": 1,
                    "showarrow": false,
                    "text": "<b>Top 10 Marcas (Por Média de Descontos)</b><br>Magnum: 955 CLP<br>Nido: 870 CLP<br>Oral Fresh: 797 CLP<br>Rexona Clinical: 795 CLP<br>Rexona Men Clinical: 795 CLP<br>Pantene: 685 CLP<br>Rexona: 660 CLP<br>Rexona Men: 660 CLP<br>Mega: 657 CLP<br>BiO: 650 CLP",
                    "x": 0.95,
                    "xref": "paper",
                    "y": 0.5,
                    "yref": "paper"
                  }
                ],
                "barmode": "stack",
                "coloraxis": {
                  "colorbar": {
                    "title": {
                      "text": "Desconto (CPL)"
                    }
                  },
                  "colorscale": [
                    [
                      0,
                      "#ffb347"
                    ],
                    [
                      0.3333333333333333,
                      "#ff7f0e"
                    ],
                    [
                      0.6666666666666666,
                      "#9b59b6"
                    ],
                    [
                      1,
                      "#6a3d9a"
                    ]
                  ]
                },
                "height": 600,
                "legend": {
                  "title": {
                    "text": "Marca"
                  },
                  "tracegroupgap": 0
                },
                "margin": {
                  "r": 260
                },
                "template": {
                  "data": {
                    "bar": [
                      {
                        "error_x": {
                          "color": "#2a3f5f"
                        },
                        "error_y": {
                          "color": "#2a3f5f"
                        },
                        "marker": {
                          "line": {
                            "color": "#E5ECF6",
                            "width": 0.5
                          },
                          "pattern": {
                            "fillmode": "overlay",
                            "size": 10,
                            "solidity": 0.2
                          }
                        },
                        "type": "bar"
                      }
                    ],
                    "barpolar": [
                      {
                        "marker": {
                          "line": {
                            "color": "#E5ECF6",
                            "width": 0.5
                          },
                          "pattern": {
                            "fillmode": "overlay",
                            "size": 10,
                            "solidity": 0.2
                          }
                        },
                        "type": "barpolar"
                      }
                    ],
                    "carpet": [
                      {
                        "aaxis": {
                          "endlinecolor": "#2a3f5f",
                          "gridcolor": "white",
                          "linecolor": "white",
                          "minorgridcolor": "white",
                          "startlinecolor": "#2a3f5f"
                        },
                        "baxis": {
                          "endlinecolor": "#2a3f5f",
                          "gridcolor": "white",
                          "linecolor": "white",
                          "minorgridcolor": "white",
                          "startlinecolor": "#2a3f5f"
                        },
                        "type": "carpet"
                      }
                    ],
                    "choropleth": [
                      {
                        "colorbar": {
                          "outlinewidth": 0,
                          "ticks": ""
                        },
                        "type": "choropleth"
                      }
                    ],
                    "contour": [
                      {
                        "colorbar": {
                          "outlinewidth": 0,
                          "ticks": ""
                        },
                        "colorscale": [
                          [
                            0,
                            "#0d0887"
                          ],
                          [
                            0.1111111111111111,
                            "#46039f"
                          ],
                          [
                            0.2222222222222222,
                            "#7201a8"
                          ],
                          [
                            0.3333333333333333,
                            "#9c179e"
                          ],
                          [
                            0.4444444444444444,
                            "#bd3786"
                          ],
                          [
                            0.5555555555555556,
                            "#d8576b"
                          ],
                          [
                            0.6666666666666666,
                            "#ed7953"
                          ],
                          [
                            0.7777777777777778,
                            "#fb9f3a"
                          ],
                          [
                            0.8888888888888888,
                            "#fdca26"
                          ],
                          [
                            1,
                            "#f0f921"
                          ]
                        ],
                        "type": "contour"
                      }
                    ],
                    "contourcarpet": [
                      {
                        "colorbar": {
                          "outlinewidth": 0,
                          "ticks": ""
                        },
                        "type": "contourcarpet"
                      }
                    ],
                    "heatmap": [
                      {
                        "colorbar": {
                          "outlinewidth": 0,
                          "ticks": ""
                        },
                        "colorscale": [
                          [
                            0,
                            "#0d0887"
                          ],
                          [
                            0.1111111111111111,
                            "#46039f"
                          ],
                          [
                            0.2222222222222222,
                            "#7201a8"
                          ],
                          [
                            0.3333333333333333,
                            "#9c179e"
                          ],
                          [
                            0.4444444444444444,
                            "#bd3786"
                          ],
                          [
                            0.5555555555555556,
                            "#d8576b"
                          ],
                          [
                            0.6666666666666666,
                            "#ed7953"
                          ],
                          [
                            0.7777777777777778,
                            "#fb9f3a"
                          ],
                          [
                            0.8888888888888888,
                            "#fdca26"
                          ],
                          [
                            1,
                            "#f0f921"
                          ]
                        ],
                        "type": "heatmap"
                      }
                    ],
                    "histogram": [
                      {
                        "marker": {
                          "pattern": {
                            "fillmode": "overlay",
                            "size": 10,
                            "solidity": 0.2
                          }
                        },
                        "type": "histogram"
                      }
                    ],
                    "histogram2d": [
                      {
                        "colorbar": {
                          "outlinewidth": 0,
                          "ticks": ""
                        },
                        "colorscale": [
                          [
                            0,
                            "#0d0887"
                          ],
                          [
                            0.1111111111111111,
                            "#46039f"
                          ],
                          [
                            0.2222222222222222,
                            "#7201a8"
                          ],
                          [
                            0.3333333333333333,
                            "#9c179e"
                          ],
                          [
                            0.4444444444444444,
                            "#bd3786"
                          ],
                          [
                            0.5555555555555556,
                            "#d8576b"
                          ],
                          [
                            0.6666666666666666,
                            "#ed7953"
                          ],
                          [
                            0.7777777777777778,
                            "#fb9f3a"
                          ],
                          [
                            0.8888888888888888,
                            "#fdca26"
                          ],
                          [
                            1,
                            "#f0f921"
                          ]
                        ],
                        "type": "histogram2d"
                      }
                    ],
                    "histogram2dcontour": [
                      {
                        "colorbar": {
                          "outlinewidth": 0,
                          "ticks": ""
                        },
                        "colorscale": [
                          [
                            0,
                            "#0d0887"
                          ],
                          [
                            0.1111111111111111,
                            "#46039f"
                          ],
                          [
                            0.2222222222222222,
                            "#7201a8"
                          ],
                          [
                            0.3333333333333333,
                            "#9c179e"
                          ],
                          [
                            0.4444444444444444,
                            "#bd3786"
                          ],
                          [
                            0.5555555555555556,
                            "#d8576b"
                          ],
                          [
                            0.6666666666666666,
                            "#ed7953"
                          ],
                          [
                            0.7777777777777778,
                            "#fb9f3a"
                          ],
                          [
                            0.8888888888888888,
                            "#fdca26"
                          ],
                          [
                            1,
                            "#f0f921"
                          ]
                        ],
                        "type": "histogram2dcontour"
                      }
                    ],
                    "mesh3d": [
                      {
                        "colorbar": {
                          "outlinewidth": 0,
                          "ticks": ""
                        },
                        "type": "mesh3d"
                      }
                    ],
                    "parcoords": [
                      {
                        "line": {
                          "colorbar": {
                            "outlinewidth": 0,
                            "ticks": ""
                          }
                        },
                        "type": "parcoords"
                      }
                    ],
                    "pie": [
                      {
                        "automargin": true,
                        "type": "pie"
                      }
                    ],
                    "scatter": [
                      {
                        "fillpattern": {
                          "fillmode": "overlay",
                          "size": 10,
                          "solidity": 0.2
                        },
                        "type": "scatter"
                      }
                    ],
                    "scatter3d": [
                      {
                        "line": {
                          "colorbar": {
                            "outlinewidth": 0,
                            "ticks": ""
                          }
                        },
                        "marker": {
                          "colorbar": {
                            "outlinewidth": 0,
                            "ticks": ""
                          }
                        },
                        "type": "scatter3d"
                      }
                    ],
                    "scattercarpet": [
                      {
                        "marker": {
                          "colorbar": {
                            "outlinewidth": 0,
                            "ticks": ""
                          }
                        },
                        "type": "scattercarpet"
                      }
                    ],
                    "scattergeo": [
                      {
                        "marker": {
                          "colorbar": {
                            "outlinewidth": 0,
                            "ticks": ""
                          }
                        },
                        "type": "scattergeo"
                      }
                    ],
                    "scattergl": [
                      {
                        "marker": {
                          "colorbar": {
                            "outlinewidth": 0,
                            "ticks": ""
                          }
                        },
                        "type": "scattergl"
                      }
                    ],
                    "scattermap": [
                      {
                        "marker": {
                          "colorbar": {
                            "outlinewidth": 0,
                            "ticks": ""
                          }
                        },
                        "type": "scattermap"
                      }
                    ],
                    "scattermapbox": [
                      {
                        "marker": {
                          "colorbar": {
                            "outlinewidth": 0,
                            "ticks": ""
                          }
                        },
                        "type": "scattermapbox"
                      }
                    ],
                    "scatterpolar": [
                      {
                        "marker": {
                          "colorbar": {
                            "outlinewidth": 0,
                            "ticks": ""
                          }
                        },
                        "type": "scatterpolar"
                      }
                    ],
                    "scatterpolargl": [
                      {
                        "marker": {
                          "colorbar": {
                            "outlinewidth": 0,
                            "ticks": ""
                          }
                        },
                        "type": "scatterpolargl"
                      }
                    ],
                    "scatterternary": [
                      {
                        "marker": {
                          "colorbar": {
                            "outlinewidth": 0,
                            "ticks": ""
                          }
                        },
                        "type": "scatterternary"
                      }
                    ],
                    "surface": [
                      {
                        "colorbar": {
                          "outlinewidth": 0,
                          "ticks": ""
                        },
                        "colorscale": [
                          [
                            0,
                            "#0d0887"
                          ],
                          [
                            0.1111111111111111,
                            "#46039f"
                          ],
                          [
                            0.2222222222222222,
                            "#7201a8"
                          ],
                          [
                            0.3333333333333333,
                            "#9c179e"
                          ],
                          [
                            0.4444444444444444,
                            "#bd3786"
                          ],
                          [
                            0.5555555555555556,
                            "#d8576b"
                          ],
                          [
                            0.6666666666666666,
                            "#ed7953"
                          ],
                          [
                            0.7777777777777778,
                            "#fb9f3a"
                          ],
                          [
                            0.8888888888888888,
                            "#fdca26"
                          ],
                          [
                            1,
                            "#f0f921"
                          ]
                        ],
                        "type": "surface"
                      }
                    ],
                    "table": [
                      {
                        "cells": {
                          "fill": {
                            "color": "#EBF0F8"
                          },
                          "line": {
                            "color": "white"
                          }
                        },
                        "header": {
                          "fill": {
                            "color": "#C8D4E3"
                          },
                          "line": {
                            "color": "white"
                          }
                        },
                        "type": "table"
                      }
                    ]
                  },
                  "layout": {
                    "annotationdefaults": {
                      "arrowcolor": "#2a3f5f",
                      "arrowhead": 0,
                      "arrowwidth": 1
                    },
                    "autotypenumbers": "strict",
                    "coloraxis": {
                      "colorbar": {
                        "outlinewidth": 0,
                        "ticks": ""
                      }
                    },
                    "colorscale": {
                      "diverging": [
                        [
                          0,
                          "#8e0152"
                        ],
                        [
                          0.1,
                          "#c51b7d"
                        ],
                        [
                          0.2,
                          "#de77ae"
                        ],
                        [
                          0.3,
                          "#f1b6da"
                        ],
                        [
                          0.4,
                          "#fde0ef"
                        ],
                        [
                          0.5,
                          "#f7f7f7"
                        ],
                        [
                          0.6,
                          "#e6f5d0"
                        ],
                        [
                          0.7,
                          "#b8e186"
                        ],
                        [
                          0.8,
                          "#7fbc41"
                        ],
                        [
                          0.9,
                          "#4d9221"
                        ],
                        [
                          1,
                          "#276419"
                        ]
                      ],
                      "sequential": [
                        [
                          0,
                          "#0d0887"
                        ],
                        [
                          0.1111111111111111,
                          "#46039f"
                        ],
                        [
                          0.2222222222222222,
                          "#7201a8"
                        ],
                        [
                          0.3333333333333333,
                          "#9c179e"
                        ],
                        [
                          0.4444444444444444,
                          "#bd3786"
                        ],
                        [
                          0.5555555555555556,
                          "#d8576b"
                        ],
                        [
                          0.6666666666666666,
                          "#ed7953"
                        ],
                        [
                          0.7777777777777778,
                          "#fb9f3a"
                        ],
                        [
                          0.8888888888888888,
                          "#fdca26"
                        ],
                        [
                          1,
                          "#f0f921"
                        ]
                      ],
                      "sequentialminus": [
                        [
                          0,
                          "#0d0887"
                        ],
                        [
                          0.1111111111111111,
                          "#46039f"
                        ],
                        [
                          0.2222222222222222,
                          "#7201a8"
                        ],
                        [
                          0.3333333333333333,
                          "#9c179e"
                        ],
                        [
                          0.4444444444444444,
                          "#bd3786"
                        ],
                        [
                          0.5555555555555556,
                          "#d8576b"
                        ],
                        [
                          0.6666666666666666,
                          "#ed7953"
                        ],
                        [
                          0.7777777777777778,
                          "#fb9f3a"
                        ],
                        [
                          0.8888888888888888,
                          "#fdca26"
                        ],
                        [
                          1,
                          "#f0f921"
                        ]
                      ]
                    },
                    "colorway": [
                      "#636efa",
                      "#EF553B",
                      "#00cc96",
                      "#ab63fa",
                      "#FFA15A",
                      "#19d3f3",
                      "#FF6692",
                      "#B6E880",
                      "#FF97FF",
                      "#FECB52"
                    ],
                    "font": {
                      "color": "#2a3f5f"
                    },
                    "geo": {
                      "bgcolor": "white",
                      "lakecolor": "white",
                      "landcolor": "#E5ECF6",
                      "showlakes": true,
                      "showland": true,
                      "subunitcolor": "white"
                    },
                    "hoverlabel": {
                      "align": "left"
                    },
                    "hovermode": "closest",
                    "mapbox": {
                      "style": "light"
                    },
                    "paper_bgcolor": "white",
                    "plot_bgcolor": "#E5ECF6",
                    "polar": {
                      "angularaxis": {
                        "gridcolor": "white",
                        "linecolor": "white",
                        "ticks": ""
                      },
                      "bgcolor": "#E5ECF6",
                      "radialaxis": {
                        "gridcolor": "white",
                        "linecolor": "white",
                        "ticks": ""
                      }
                    },
                    "scene": {
                      "xaxis": {
                        "backgroundcolor": "#E5ECF6",
                        "gridcolor": "white",
                        "gridwidth": 2,
                        "linecolor": "white",
                        "showbackground": true,
                        "ticks": "",
                        "zerolinecolor": "white"
                      },
                      "yaxis": {
                        "backgroundcolor": "#E5ECF6",
                        "gridcolor": "white",
                        "gridwidth": 2,
                        "linecolor": "white",
                        "showbackground": true,
                        "ticks": "",
                        "zerolinecolor": "white"
                      },
                      "zaxis": {
                        "backgroundcolor": "#E5ECF6",
                        "gridcolor": "white",
                        "gridwidth": 2,
                        "linecolor": "white",
                        "showbackground": true,
                        "ticks": "",
                        "zerolinecolor": "white"
                      }
                    },
                    "shapedefaults": {
                      "line": {
                        "color": "#2a3f5f"
                      }
                    },
                    "ternary": {
                      "aaxis": {
                        "gridcolor": "white",
                        "linecolor": "white",
                        "ticks": ""
                      },
                      "baxis": {
                        "gridcolor": "white",
                        "linecolor": "white",
                        "ticks": ""
                      },
                      "bgcolor": "#E5ECF6",
                      "caxis": {
                        "gridcolor": "white",
                        "linecolor": "white",
                        "ticks": ""
                      }
                    },
                    "title": {
                      "x": 0.05
                    },
                    "xaxis": {
                      "automargin": true,
                      "gridcolor": "white",
                      "linecolor": "white",
                      "ticks": "",
                      "title": {
                        "standoff": 15
                      },
                      "zerolinecolor": "white",
                      "zerolinewidth": 2
                    },
                    "yaxis": {
                      "automargin": true,
                      "gridcolor": "white",
                      "linecolor": "white",
                      "ticks": "",
                      "title": {
                        "standoff": 15
                      },
                      "zerolinecolor": "white",
                      "zerolinewidth": 2
                    }
                  }
                },
                "title": {
                  "text": "Média de Desconto por Categoria e Marca"
                },
                "width": 1000,
                "xaxis": {
                  "anchor": "y",
                  "domain": [
                    0,
                    1
                  ],
                  "title": {
                    "text": "Categoria"
                  }
                },
                "yaxis": {
                  "anchor": "x",
                  "domain": [
                    0,
                    1
                  ],
                  "gridcolor": "white",
                  "griddash": "dot",
                  "gridwidth": 1,
                  "showgrid": true,
                  "title": {
                    "text": "Média de Desconto (CPL)"
                  }
                }
              }
            }
          },
          "metadata": {},
          "output_type": "display_data"
        }
      ],
      "source": [
        "# Agrupar os dados por categoria e marca\n",
        "media_cat_marca = (\n",
        "    df.groupby(['Categoria', 'Marca'])['Desconto']\n",
        "      .mean()\n",
        "      .reset_index()\n",
        "      .sort_values(by='Desconto', ascending=False)\n",
        ")\n",
        "\n",
        "# Plotar o gráfico\n",
        "fig = px.bar(media_cat_marca,\n",
        "             x=\"Categoria\",\n",
        "             y=\"Desconto\",\n",
        "             color=\"Desconto\",\n",
        "             color_continuous_scale=[\"#ffb347\", \"#ff7f0e\", \"#9b59b6\", \"#6a3d9a\"],\n",
        "             title=\"Média de Desconto por Categoria e Marca\",\n",
        "             labels={\"Desconto\":\"Média de Desconto (CLP)\"},\n",
        "             barmode=\"stack\",\n",
        "             height=600,\n",
        "             width=1000,\n",
        "             hover_data=[\"Marca\"])\n",
        "\n",
        "fig.update_layout(\n",
        "    xaxis_title=\"Categoria\",\n",
        "    yaxis_title=\"Média de Desconto (CPL)\",\n",
        "    legend_title=\"Marca\",\n",
        "    coloraxis_colorbar_title=\"Desconto (CPL)\",\n",
        "    margin=dict(r=260)\n",
        ")\n",
        "\n",
        "# Top 10 marcas\n",
        "top10 = (\n",
        "    df.groupby('Marca')['Desconto']\n",
        "      .mean()\n",
        "      .sort_values(ascending=False)\n",
        "      .head(10)\n",
        ")\n",
        "legenda = \"<b>Top 10 Marcas (Por Média de Descontos)</b><br>\" + \"<br>\".join(\n",
        "    [f\"{m}: {v:.0f} CLP\" for m, v in top10.items()]\n",
        ")\n",
        "\n",
        "# Adicionar anotação sobre as marcas\n",
        "fig.add_annotation(\n",
        "    text=legenda,\n",
        "    x=0.95, y=0.5,\n",
        "    xref=\"paper\", yref=\"paper\",\n",
        "    showarrow=False,\n",
        "    align=\"left\",\n",
        "    bgcolor=\"white\",\n",
        "    bordercolor=\"black\",\n",
        "    borderwidth=1,\n",
        "    borderpad=8\n",
        ")\n",
        "\n",
        "# Grid pontilhado\n",
        "fig.update_yaxes(showgrid=True, gridcolor=\"white\", gridwidth=1, griddash=\"dot\")\n",
        "\n",
        "fig.show()\n"
      ]
    }
  ],
  "metadata": {
    "colab": {
      "provenance": []
    },
    "kernelspec": {
      "display_name": ".venv (3.11.2)",
      "language": "python",
      "name": "python3"
    },
    "language_info": {
      "codemirror_mode": {
        "name": "ipython",
        "version": 3
      },
      "file_extension": ".py",
      "mimetype": "text/x-python",
      "name": "python",
      "nbconvert_exporter": "python",
      "pygments_lexer": "ipython3",
      "version": "3.11.2"
    }
  },
  "nbformat": 4,
  "nbformat_minor": 0
}
